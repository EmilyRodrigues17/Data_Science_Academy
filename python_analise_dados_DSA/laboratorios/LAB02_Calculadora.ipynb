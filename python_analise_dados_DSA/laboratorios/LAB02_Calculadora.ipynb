{
 "cells": [
  {
   "cell_type": "markdown",
   "metadata": {},
   "source": [
    "## CALCULADORA"
   ]
  },
  {
   "cell_type": "code",
   "execution_count": 8,
   "metadata": {},
   "outputs": [
    {
     "name": "stdout",
     "output_type": "stream",
     "text": [
      "*********************************** Python Calculator ********************************************\n"
     ]
    }
   ],
   "source": [
    "print('*********************************** Python Calculator ********************************************')"
   ]
  },
  {
   "cell_type": "markdown",
   "metadata": {},
   "source": [
    "## Funções"
   ]
  },
  {
   "cell_type": "code",
   "execution_count": 9,
   "metadata": {},
   "outputs": [],
   "source": [
    "def soma(n1, n2):\n",
    "    return n1 + n2"
   ]
  },
  {
   "cell_type": "code",
   "execution_count": 10,
   "metadata": {},
   "outputs": [],
   "source": [
    "def subtracao(n1, n2):\n",
    "    return n1 - n2"
   ]
  },
  {
   "cell_type": "code",
   "execution_count": 11,
   "metadata": {},
   "outputs": [],
   "source": [
    "def multiplicacao(n1, n2):\n",
    "    return n1 * n2"
   ]
  },
  {
   "cell_type": "code",
   "execution_count": 12,
   "metadata": {},
   "outputs": [],
   "source": [
    "def divisao(n1, n2):\n",
    "    return n1/n2"
   ]
  },
  {
   "cell_type": "markdown",
   "metadata": {},
   "source": [
    "## Calculadora"
   ]
  },
  {
   "cell_type": "code",
   "execution_count": 13,
   "metadata": {},
   "outputs": [
    {
     "name": "stdout",
     "output_type": "stream",
     "text": [
      "Selecione o número da operação desejada:\n",
      "1 - Soma\n",
      "2 - Subtração\n",
      "3 - Multiplicação\n",
      "4 - Divisão\n",
      "Digite sua opção (1/2/3/4): 6\n"
     ]
    }
   ],
   "source": [
    "print('Selecione o número da operação desejada:')\n",
    "\n",
    "print('1 - Soma')\n",
    "print('2 - Subtração')\n",
    "print('3 - Multiplicação')\n",
    "print('4 - Divisão')\n",
    "\n",
    "opcao = int(input('Digite sua opção (1/2/3/4): '))"
   ]
  },
  {
   "cell_type": "code",
   "execution_count": 14,
   "metadata": {},
   "outputs": [
    {
     "name": "stdout",
     "output_type": "stream",
     "text": [
      "Opção invalida!\n",
      "Digite novamente\n",
      "Digite sua opção (1/2/3/4): 8\n",
      "Opção invalida!\n",
      "Digite novamente\n",
      "Digite sua opção (1/2/3/4): 7\n",
      "Opção invalida!\n",
      "Digite novamente\n",
      "Digite sua opção (1/2/3/4): 9\n",
      "Opção invalida!\n",
      "Digite novamente\n",
      "Digite sua opção (1/2/3/4): 3\n",
      "entrou\n",
      "Digite o primeiro número: 6\n",
      "Digite o segundo número:6\n",
      "A multiplicação é:  36.0\n"
     ]
    }
   ],
   "source": [
    "cont = 0\n",
    "while cont != 1:\n",
    "    if (opcao != 1) and (opcao != 2) and (opcao != 3) and (opcao != 4):\n",
    "        print('Opção invalida!')\n",
    "        print('Digite novamente')\n",
    "        opcao = int(input('Digite sua opção (1/2/3/4): '))\n",
    "        \n",
    "    else:            \n",
    "        print('entrou')\n",
    "        cont = cont + 1\n",
    "        n1 = float(input('Digite o primeiro número: '))\n",
    "        n2 = float(input('Digite o segundo número:'))\n",
    "        \n",
    "        if (opcao == 1):\n",
    "            print('A soma é: ', soma(n1,n2))\n",
    "        if (opcao == 2):\n",
    "            print('A subtração é: ', subtracao(n1,n2))\n",
    "        if (opcao == 3):\n",
    "            print('A multiplicação é: ', multiplicacao(n1,n2))\n",
    "        if (opcao == 4):\n",
    "            print('A divisão é: ', divisao(n1,n2))\n",
    "        \n",
    "        "
   ]
  },
  {
   "cell_type": "code",
   "execution_count": null,
   "metadata": {},
   "outputs": [],
   "source": []
  },
  {
   "cell_type": "code",
   "execution_count": null,
   "metadata": {},
   "outputs": [],
   "source": []
  }
 ],
 "metadata": {
  "kernelspec": {
   "display_name": "Python 3",
   "language": "python",
   "name": "python3"
  },
  "language_info": {
   "codemirror_mode": {
    "name": "ipython",
    "version": 3
   },
   "file_extension": ".py",
   "mimetype": "text/x-python",
   "name": "python",
   "nbconvert_exporter": "python",
   "pygments_lexer": "ipython3",
   "version": "3.7.1"
  }
 },
 "nbformat": 4,
 "nbformat_minor": 2
}
